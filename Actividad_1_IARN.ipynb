{
  "nbformat": 4,
  "nbformat_minor": 0,
  "metadata": {
    "colab": {
      "provenance": []
    },
    "kernelspec": {
      "name": "python3",
      "display_name": "Python 3"
    },
    "language_info": {
      "name": "python"
    }
  },
  "cells": [
    {
      "cell_type": "code",
      "execution_count": 2,
      "metadata": {
        "colab": {
          "base_uri": "https://localhost:8080/"
        },
        "id": "N34e0JCpm-Wh",
        "outputId": "9504f044-9654-4679-e993-904c638f391f"
      },
      "outputs": [
        {
          "output_type": "stream",
          "name": "stdout",
          "text": [
            "Por favor, ingresa un número entero: 35\n",
            "35 es un número impar.\n"
          ]
        }
      ],
      "source": [
        "# Solicitar al usuario un número entero\n",
        "numero = int(input(\"Por favor, ingresa un número entero: \"))\n",
        "\n",
        "# Determinar si el número es par o impar\n",
        "if numero % 2 == 0:\n",
        "    print(f\"{numero} es un número par.\")\n",
        "else:\n",
        "    print(f\"{numero} es un número impar.\")\n"
      ]
    },
    {
      "cell_type": "code",
      "source": [
        "entrada = input(\"Ingresa una lista de números separados por comas: \")\n",
        "\n",
        "numeros = [int(numero) for numero in entrada.split(',')]\n",
        "\n",
        "print(\"Lista en orden inverso:\")\n",
        "for numero in reversed(numeros):\n",
        "    print(numero)\n"
      ],
      "metadata": {
        "colab": {
          "base_uri": "https://localhost:8080/"
        },
        "id": "ywLDGDWunWR8",
        "outputId": "febdc770-b7e0-4de5-bca0-05b52caf65a8"
      },
      "execution_count": 3,
      "outputs": [
        {
          "output_type": "stream",
          "name": "stdout",
          "text": [
            "Ingresa una lista de números separados por comas: 1,2,3,4,5,6\n",
            "Lista en orden inverso:\n",
            "6\n",
            "5\n",
            "4\n",
            "3\n",
            "2\n",
            "1\n"
          ]
        }
      ]
    },
    {
      "cell_type": "code",
      "source": [
        "import random\n",
        "\n",
        "numero_objetivo = random.randint(1, 100)\n",
        "\n",
        "intentos = 0\n",
        "\n",
        "while True:\n",
        "    intento = int(input(\"Adivina el número (entre 1 y 100): \"))\n",
        "\n",
        "    intentos += 1\n",
        "\n",
        "    if intento == numero_objetivo:\n",
        "        print(f\"¡Felicidades! Adivinaste el número {numero_objetivo} en {intentos} intentos.\")\n",
        "        break\n",
        "    elif intento < numero_objetivo:\n",
        "        print(\"El número objetivo es mayor.\")\n",
        "    else:\n",
        "        print(\"El número objetivo es menor.\")\n"
      ],
      "metadata": {
        "colab": {
          "base_uri": "https://localhost:8080/"
        },
        "id": "_tEebpC6nrxr",
        "outputId": "de68265c-c048-4eb2-e826-e42b8c4a9e2d"
      },
      "execution_count": 5,
      "outputs": [
        {
          "output_type": "stream",
          "name": "stdout",
          "text": [
            "Adivina el número (entre 1 y 100): 40\n",
            "El número objetivo es menor.\n",
            "Adivina el número (entre 1 y 100): 20\n",
            "El número objetivo es mayor.\n",
            "Adivina el número (entre 1 y 100): 30\n",
            "El número objetivo es mayor.\n",
            "Adivina el número (entre 1 y 100): 35\n",
            "El número objetivo es mayor.\n",
            "Adivina el número (entre 1 y 100): 38\n",
            "¡Felicidades! Adivinaste el número 38 en 5 intentos.\n"
          ]
        }
      ]
    },
    {
      "cell_type": "code",
      "source": [
        "\n",
        "def es_primo(numero):\n",
        "    if numero <= 1:\n",
        "        return False\n",
        "    if numero <= 3:\n",
        "        return True\n",
        "    if numero % 2 == 0 or numero % 3 == 0:\n",
        "        return False\n",
        "    i = 5\n",
        "    while i * i <= numero:\n",
        "        if numero % i == 0 or numero % (i + 2) == 0:\n",
        "            return False\n",
        "        i += 6\n",
        "    return True\n",
        "\n",
        "inicio = int(input(\"Ingresa el número de inicio del rango: \"))\n",
        "fin = int(input(\"Ingresa el número de fin del rango: \"))\n",
        "\n",
        "print(f\"Números primos en el rango de {inicio} a {fin}:\")\n",
        "for numero in range(inicio, fin + 1):\n",
        "    if es_primo(numero):\n",
        "        print(numero)\n"
      ],
      "metadata": {
        "colab": {
          "base_uri": "https://localhost:8080/"
        },
        "id": "TAMljmeIoKkZ",
        "outputId": "96d05265-c90a-43f2-e670-7cc6a178e824"
      },
      "execution_count": 7,
      "outputs": [
        {
          "output_type": "stream",
          "name": "stdout",
          "text": [
            "Ingresa el número de inicio del rango: 30\n",
            "Ingresa el número de fin del rango: 30\n",
            "Números primos en el rango de 30 a 30:\n"
          ]
        }
      ]
    }
  ]
}